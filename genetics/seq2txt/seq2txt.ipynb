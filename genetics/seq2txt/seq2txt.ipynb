{
 "cells": [
  {
   "cell_type": "code",
   "execution_count": 4,
   "metadata": {},
   "outputs": [],
   "source": [
    "import os, sys\n",
    "import pandas as pd\n",
    "import matplotlib.pyplot as plt\n",
    "import numpy as np\n",
    "from scipy.optimize import curve_fit"
   ]
  },
  {
   "cell_type": "code",
   "execution_count": 5,
   "metadata": {},
   "outputs": [
    {
     "name": "stdout",
     "output_type": "stream",
     "text": [
      "['Chrysemys_picta_bellii-3.0.3.xls', 'CAU_duck1.0.xls', 'BROAD S1.xls', 'CamDro2.xls', 'Turkey_5.1.xls', 'BosGru_v2.0.xls', 'gorGor4.xls', 'EBS10Xv2-PRI.xls', 'EquCab3.0.xls', 'panpan1.1.xls', 'Felis_catus_9.0.xls', 'Mmul_10.xls', 'MusPutFur1.0.xls', 'Xenopus_tropicalis_v9.1.xls', 'Cebus_imitator-1.0.xls', 'CanFam3.1.xls', 'S.galili_v1.0.xls', 'fTakRub1.2.xls', 'ARS-UCD1.2.xls', 'MesAur1.0.xls', 'P_latipinna-1.0.xls', 'fBetSpl5.2.xls', 'PanTig1.0.xls', 'TS10Xv2-PRI.xls', 'ASM334442v1.xls', 'Fundulus_heteroclitus-3.0.2.xls', 'Tarsius_syrichta-2.0.1.xls', 'FicAlb1.5.xls', 'CAROLI_EIJ_v1.1.xls', 'fSclFor1.1.xls', 'ASM1334776v1.xls', 'Mleu.le_1.0.xls', 'MosMos_v2_BIUU_UCD.xls', 'ASM275486v1.xls', 'Bison_UMD1.0.xls', 'HLtupMer3.xls', 'Myoluc2.0.xls', 'LatCha1.xls', 'IpCoco_1.2.xls', 'ASM331708v1.xls', 'Mmur_3.0.xls', 'fAnaTes1.2.xls', 'BallGen_V1.xls', 'mSarHar1.11.xls', 'Nana_v5.xls', 'fMasArm1.2.xls', 'CroPor_comp1.xls', 'Anan_2.0.xls', 'PKINGS_0.1.xls', 'SLUC_FBN_1.xls', 'Platyfish.xls', 'ASM283717v2.xls', 'C_variegatus-1.0.xls', 'Pan_tro_3.0.xls', 'SCA1.xls', 'choHof1.xls', 'fAstCal1.2.xls', 'latLat_1.0.xls', 'Mnem_1.0.xls', 'Dord_2.0.xls', 'JacJac1.0.xls', 'ASM858656v1.xls', 'PodMur_1.0.xls', 'Loxafr3.0.xls', 'TENREC.xls', 'Stegastes_partitus-1.0.2.xls', 'PAHARI_EIJ_v1.1.xls', 'ICSASG_v2.xls', 'mPhoSin1.pri.xls', 'Ee_SOAP_WITH_SSPACE.xls', 'proCap1.xls', 'ChiLan1.0.xls', 'sorAra1.xls', 'Astyanax_mexicanus-2.0.xls', 'ASM359739v1.xls', 'Om_v0.7.RACA.xls', 'Rrox_v1.xls', 'MUSP714.xls', 'PunNye1.0.xls', 'NeoBri1.0.xls', 'pteVam1.xls', 'common_carp_genome.xls', 'ASM966780v1.xls', 'HU_Pman_2.1.xls', 'M_zebra_UMD2a.xls', 'OchPri2.0-Ens.xls', 'seabass_V1.0.xls', 'turTru1.xls', 'bare-nosed_wombat_genome_assembly.xls', 'ASM69896v1.xls', 'PanPar1.0.xls', 'ASM210954v1.xls', 'ASM303372v1.xls', 'Okis_V2.xls', 'NGI_Narwhal_1.xls', 'SAMN03320097.WGS_v1.1.xls', 'ChlSab1.1.xls', 'mSciVul1.1.xls', 'WBcel235.xls', 'LepOcu1.xls', 'ASM229v1.xls', 'VulVul2.2.xls', 'fDenClu1.1.xls', 'Human.xlsx', 'phaCin_unsw_v4.1.xls', 'fMyrMur1.1.xls', 'Parus_major1.1.xls', 'ASM311381v1.xls', 'ASM336829v1.xls', 'H_comes_QL1_v1.xls', 'ASM169854v1.xls', 'LU_Bosgru_v3.0.xls', 'T_m_triunguis-2.0.xls', 'ASM164957v1.xls', 'Dasnov3.0.xls', 'UOA_Brahman_1.xls', 'Nfu_20140520.xls', 'CEY_v1.xls', 'CatWag_v2_BIUU_UCD.xls', 'fCotGob3.1.xls', 'Zebrafish.xls', 'ARS1.xls', 'ASB_HGAPassembly_v1.xls', 'Poecilia_formosa-5.1.2.xls', 'CSAV 2.0.xls', 'PelSin_1.0.xls', 'Sscrofa11.1.xls', 'Alpaca.xls', 'Sedor1.xls', 'Cse_v1.0.xls', 'Pygocentrus_nattereri-1.0.2.xls', 'bTaeGut1_v1.p.xls', 'GeoFor_1.0.xls', 'Pcoq_1.0.xls', 'Prosim_1.0.xls', 'gadMor3.0.xls', 'Sdu_1.0.xls', 'Midas_v5.xls', 'rGopEvg1_v1.p.xls', 'Nemo_v1.xls', 'OryCun2.0.xls', 'Meug_1.0.xls', 'fSalTru1.1.xls', 'AstBur1.0.xls', 'bAquChr1.2.xls', 'ASM223467v1.xls', 'marMar2.1.xls', 'ASM200744v2.xls', 'UrsMar_1.0.xls', 'PanLeo1.0.xls', 'tupBel1.xls', 'Macaca_fascicularis_6.0.xls', 'bStrHab1_v1.p.xls', 'R64-1-1.xls', 'mBalMus1.v2.xls', 'Callorhinchus_milii-6.1.3.xls', 'Chicken.xlsx', 'Eluc_v4.xls', 'NNQGG.v01.xls', 'X_maculatus-5.0-male.xls', 'PPYG2.xls', 'L_crocea_2.0.xls', 'Pmarinus_7.0.xls', 'eriEur1.xls', 'fErpCal1.1.xls', 'OctDeg1.0.xls', 'AnoCar2.0v2.xls', 'Cavpor3.0.xls', 'KH.xls', 'CHOK1GS_HDv1.xls', 'MicOch1.0.xls', 'Nleu_3.0.xls', 'SPRET_EiJ_v1.xls', 'Omyk_1.0.xls', 'ASM228892v3.xls', 'O_niloticus_UMD_NMBU.xls', 'Coturnix_japonica_2.0.xls', 'ASM259213v1.xls', 'ASM342692v1.xls', 'vicPac1.xls', 'Caty_1.0.xls', 'Oar_rambouillet_v1.0.xls', 'TETRAODON 8.0.xls', 'Panu_3.0.xls', 'AmpOce1.0.xls', 'Otsh_v1.0.xls', 'Guppy_female_1.0_MT.xls', 'fSpaAur1.1.xls', 'mOrnAna1.p.v1.xls', 'ASM325472v1.xls', 'HetGla_female_1.0.xls', 'Oar_v3.1.xls', 'fCycLum1.pri.xls', 'SpeTri2.0.xls', 'ASM874695v1.xls', 'OtoGar3.xls', 'mRhiFer1_v1.p.xls', 'SaiBol1.0.xls', 'Ch_v2.0.2.xls', 'OJAV_1.1.xls', 'Eburgeri_3.2.xls']\n"
     ]
    }
   ],
   "source": [
    "def data_list(path):\n",
    "    data_load = []\n",
    "    for i in os.listdir(path):\n",
    "        j = i.split('.')\n",
    "        if j[-1] == 'xls' or 'xlsx':\n",
    "            data_load.append(i)\n",
    "    return data_load\n",
    "\n",
    "data_path = './genome' #The path of 'genome' folder\n",
    "data_load = data_list(data_path)\n",
    "print(data_load)"
   ]
  },
  {
   "cell_type": "code",
   "execution_count": 7,
   "metadata": {},
   "outputs": [],
   "source": [
    "def seq2list(filename = 'mart_export.xlsx'):\n",
    "    xl = pd.read_excel(filename)\n",
    "    word, syl = [], []\n",
    "    for i in range(len(xl['Transcript stable ID'])):\n",
    "        word.append(xl['Transcript stable ID'][i])\n",
    "        syl.append(xl['Interpro ID'][i])\n",
    "    data = {}\n",
    "    data['word'] = word\n",
    "    data['syl'] = syl\n",
    "    protein_domain = pd.DataFrame(data)\n",
    "    \n",
    "    word_list = []\n",
    "    for i in range(len(protein_domain['word'])):\n",
    "        tem_word = protein_domain['word'][i]\n",
    "        if i == 0:\n",
    "            old_word = protein_domain['word'][0]\n",
    "            tem_syl = protein_domain['syl'][0]\n",
    "        else:\n",
    "            if tem_word == old_word:\n",
    "                check_syl = tem_syl.split('-')\n",
    "                \n",
    "                if protein_domain['syl'][i] not in check_syl:   \n",
    "                #The above \"if\" is used to prevent domain from being counted twice \n",
    "                #  when there are two identical domains in one protein.\n",
    "                    tem_syl = tem_syl + '-' + protein_domain['syl'][i]\n",
    "            elif tem_word != old_word:\n",
    "                word_list.append(tem_syl)\n",
    "                old_word = tem_word\n",
    "                tem_syl = protein_domain['syl'][i]\n",
    "    return word_list\n",
    "\n",
    "def list2txt(word_list, filename):\n",
    "    with open(filename, 'w') as txt:\n",
    "        for i in word_list:\n",
    "            if type(i) == str:\n",
    "                txt.write(' ')\n",
    "                txt.write(str(i))"
   ]
  },
  {
   "cell_type": "code",
   "execution_count": 8,
   "metadata": {},
   "outputs": [],
   "source": [
    "for filename in data_load:\n",
    "    file_path = './genome/' + filename  #The path of .xls/.xlsx files\n",
    "    name = filename.split('.xls')[0]\n",
    "    \n",
    "    w = seq2list(file_path)\n",
    "    list2txt(w, name + '.txt')"
   ]
  },
  {
   "cell_type": "code",
   "execution_count": null,
   "metadata": {},
   "outputs": [],
   "source": []
  },
  {
   "cell_type": "code",
   "execution_count": null,
   "metadata": {},
   "outputs": [],
   "source": []
  }
 ],
 "metadata": {
  "kernelspec": {
   "display_name": "Python 3",
   "language": "python",
   "name": "python3"
  },
  "language_info": {
   "codemirror_mode": {
    "name": "ipython",
    "version": 3
   },
   "file_extension": ".py",
   "mimetype": "text/x-python",
   "name": "python",
   "nbconvert_exporter": "python",
   "pygments_lexer": "ipython3",
   "version": "3.8.8"
  }
 },
 "nbformat": 4,
 "nbformat_minor": 2
}
